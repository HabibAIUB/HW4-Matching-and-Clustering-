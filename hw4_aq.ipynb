{
 "cells": [
  {
   "cell_type": "markdown",
   "id": "6a6b7615-1a48-49f5-b935-80457a314f19",
   "metadata": {},
   "source": [
    "# HW 4 - Algorithmic Question"
   ]
  },
  {
   "cell_type": "markdown",
   "id": "fcf8649a-2846-4b45-8cdb-7ea63308516b",
   "metadata": {},
   "source": [
    "### a) Fortunately, you have a computer app designed by a brilliant student. Federico wants you to show him the code which this app is based on because he wants to do paid counseling for other desperate students: in a recursive fashion, the helped helps the helpable."
   ]
  },
  {
   "cell_type": "code",
   "execution_count": 1,
   "id": "6f55f7b4-67f0-4d87-b960-c969a750ad26",
   "metadata": {},
   "outputs": [
    {
     "name": "stdout",
     "output_type": "stream",
     "text": [
      "Test1:\n",
      "11\n",
      "Test2:\n",
      "44\n",
      "Test3:\n",
      "205\n"
     ]
    }
   ],
   "source": [
    "def iterative_call(student_score, marks_list, solved_subproblems={}):\n",
    "    # base case, if the marks list has only one element, we are forced to take it\n",
    "    if len(marks_list) == 1:\n",
    "        return marks_list[0]\n",
    "\n",
    "    # if we have already solved this scenario, we can take the result without\n",
    "    # computing it again another time\n",
    "    elif (student_score, marks_list) in solved_subproblems:\n",
    "        return solved_subproblems[(student_score, marks_list)]\n",
    "\n",
    "    # otherwise is a new scenario, we have to compute it by checking every possible path\n",
    "    else:\n",
    "        # we create a list of tuples, each tuple is the mark list if we chose to take a certain mark\n",
    "        new_marks_lists = [\n",
    "            tuple(mark + (student_score - marks_list[i]) for mark in marks_list[:i] + marks_list[i + 1 :])\n",
    "            for i in range(len(marks_list))\n",
    "        ]\n",
    "\n",
    "        # we create a list of scores, that are the output of each new subproblem\n",
    "        new_scores = [\n",
    "            iterative_call(marks_list[i], new_marks_lists[i], solved_subproblems) for i in range(len(marks_list))\n",
    "        ]\n",
    "\n",
    "        # we get the mark among all subproblems\n",
    "        best_score = max(new_scores)\n",
    "\n",
    "        # update solved subproblems dictionary\n",
    "        solved_subproblems[(student_score, marks_list)] = best_score\n",
    "\n",
    "        return best_score\n",
    "\n",
    "\n",
    "def algorithmic_question_v1(input_string):\n",
    "    input_list = input_string.split(\"\\n\")\n",
    "\n",
    "    # get student score from input string\n",
    "    original_student_score = int(input_list[0])\n",
    "\n",
    "    # get marks list from input string\n",
    "    original_marks_list = tuple(map(int, input_list[1].split(\" \")))\n",
    "\n",
    "    best_score = iterative_call(original_student_score, original_marks_list)\n",
    "\n",
    "    print(best_score)\n",
    "\n",
    "\n",
    "# tests as given by the text of the homework\n",
    "\n",
    "input1 = \"8\\n5 7 1\"\n",
    "print(\"Test1:\")\n",
    "algorithmic_question_v1(input1)\n",
    "\n",
    "input2 = \"26\\n18 24 21 32 27\"\n",
    "print(\"Test2:\")\n",
    "algorithmic_question_v1(input2)\n",
    "\n",
    "input3 = \"30\\n13 27 41 59 28 33 39 19 52 48 55 79\"\n",
    "print(\"Test3:\")\n",
    "algorithmic_question_v1(input3)"
   ]
  },
  {
   "cell_type": "markdown",
   "id": "8004dc86-81f5-40b3-b42f-e04c7798d4ba",
   "metadata": {},
   "source": [
    "### b) Federico is getting angry because he claims that your code is slow! Show him formally with a big-O notation that he is as crazy as this university!"
   ]
  },
  {
   "cell_type": "markdown",
   "id": "2a29a3e7-0f54-43b4-9958-a99dece784dd",
   "metadata": {},
   "source": [
    "#### The time complexity of the provided code is exponential, specifically O(2^n), where n is the length of the marks_list. This analysis is based on the recursive nature of the iterative_call function.\n",
    "#### Let's break down the reasons for this time complexity:\n",
    "#### Recursive Calls:</br>The function iterative_call is called recursively for each possible path in the decision tree. In the worst case, for each mark in the marks_list, a new recursive call is made. Since there are 2^n possible subsets of marks (including the empty subset and the full subset), the total number of recursive calls becomes exponential.\n",
    "#### Memoization: </br>Although memoization is used to store and retrieve already computed results in the solved_subproblems dictionary, it doesn't change the fundamental nature of the algorithm. Memoization helps avoid redundant calculations, but the worst-case time complexity remains exponential.\n",
    "#### Subproblem Size:</br>For each recursive call, the size of the subproblem decreases by 1 (due to the removal of one mark from the marks_list). However, the number of subproblems is still exponential, resulting in an overall time complexity of O(2^n).\n",
    "#### The exponential time complexity suggests that the algorithm may become inefficient for larger inputs, as the number of computations grows rapidly with the size of the marks_list. Considerations for optimizing the algorithm further, perhaps through dynamic programming or a more efficient algorithmic approach, would be advisable for handling larger inputs efficiently."
   ]
  },
  {
   "cell_type": "markdown",
   "id": "88acb71c-83d5-4714-94c6-26345b5bd042",
   "metadata": {},
   "source": [
    "### c) If, unfortunately, Federico is right in the grip of madness, he will threaten you to optimize the code through a different approach. You should end this theater of the absurd by any means! (And again, formally prove that you improved time complexity)"
   ]
  },
  {
   "cell_type": "markdown",
   "id": "73d61c1b-f1aa-4620-8123-0c6f0bb4384e",
   "metadata": {},
   "source": [
    "#### This version maintains the functionality of the original code while improving readability and efficiency, SO for improvement, The median index is calculated only once to avoid redundant calculations. The time complexity of the provided code is dominated by the sorting operation, which has a time complexity of O(n log n), where n is the number of elements in the `marks_list`. The rest of the operations (calculating the median index, summing values above and below the median) have linear time complexity, making the overall time complexity O(n log n).\n",
    "\n",
    "#### Here's a breakdown of the time complexity:\n",
    "#### 1. Sorting the `marks_list`: O(n log n)\n",
    "#### 2. Calculating the median index: O(1)\n",
    "#### 3. Summing values above and below the median: O(n)"
   ]
  },
  {
   "cell_type": "code",
   "execution_count": 7,
   "id": "ac7b05d0-4edf-47f1-abe3-62e90d916a24",
   "metadata": {},
   "outputs": [
    {
     "name": "stdout",
     "output_type": "stream",
     "text": [
      "Test1:\n",
      "11\n",
      "Test2:\n",
      "44\n",
      "Test3:\n",
      "205\n"
     ]
    }
   ],
   "source": [
    "def algorithmic_question_v3(input_string):\n",
    "    input_list = input_string.split(\"\\n\")\n",
    "\n",
    "    # get student score from input string\n",
    "    student_score = int(input_list[0])\n",
    "\n",
    "    # get marks list from input string\n",
    "    marks_list = list(map(int, input_list[1].split(\" \")))\n",
    "\n",
    "    # sort values\n",
    "    marks_list.sort()\n",
    "\n",
    "    # calculate median index\n",
    "    median_index = len(marks_list) // 2\n",
    "\n",
    "    # treat even/odd case\n",
    "    result = 0 if len(marks_list) % 2 == 1 else student_score\n",
    "\n",
    "    # sum values above median and subtract values below median\n",
    "    result += sum(marks_list[median_index:]) - sum(marks_list[:median_index])\n",
    "\n",
    "    print(result)\n",
    "\n",
    "# tests as given by the text of the homework\n",
    "\n",
    "input1 = \"8\\n5 7 1\"\n",
    "print(\"Test1:\")\n",
    "algorithmic_question_v3(input1)\n",
    "\n",
    "input2 = \"25\\n18 24 21 32 27\"\n",
    "print(\"Test2:\")\n",
    "algorithmic_question_v3(input2)\n",
    "\n",
    "input3 = \"30\\n13 27 41 59 28 33 39 19 52 48 55 79\"\n",
    "print(\"Test3:\")\n",
    "algorithmic_question_v3(input3)\n"
   ]
  },
  {
   "cell_type": "markdown",
   "id": "1a78e95a-8e59-4835-ac01-b35f5668657c",
   "metadata": {},
   "source": [
    "### d) Ask chatGPT for a third (optimized) implementation and analyze again its time complexity. Be careful (and crafty) in defining the prompt, and challenge the machine in this coding question!"
   ]
  },
  {
   "cell_type": "markdown",
   "id": "9e086cf3-8a11-425e-b317-90347bbb909f",
   "metadata": {},
   "source": [
    "#### we give this command to the chat gpt : \" Develop a Python algorithm to address the problem presented in the following text. Emphasize code correctness and strive to devise a strategy that minimizes computational costs.\" then we give the requested algorithm text. the outpus is : "
   ]
  },
  {
   "cell_type": "code",
   "execution_count": 9,
   "id": "33bef92c-8e3f-40a8-9bcc-b097ee5317c3",
   "metadata": {},
   "outputs": [],
   "source": [
    "def highest_score_possible(current_score, exams):\n",
    "    if not exams:\n",
    "        return current_score\n",
    "\n",
    "    max_score = current_score\n",
    "\n",
    "    for i in range(len(exams)):\n",
    "        new_score = exams[i]\n",
    "        remaining_exams = exams[:i] + exams[i+1:]\n",
    "\n",
    "        for j in range(len(remaining_exams)):\n",
    "            if new_score > current_score:\n",
    "                remaining_exams[j] -= new_score - current_score\n",
    "            elif new_score < current_score:\n",
    "                remaining_exams[j] += current_score - new_score\n",
    "\n",
    "        max_score = max(max_score, highest_score_possible(new_score, remaining_exams))\n",
    "\n",
    "    return max_score"
   ]
  },
  {
   "cell_type": "markdown",
   "id": "0539b1a3-0ae0-4e94-90e6-6af5c3c7fdbd",
   "metadata": {},
   "source": [
    "#### Then we asked it to compute it's time complexity which resuletd in this output : \n",
    "#### This results in a total time complexity of O(n!), which can become computationally expensive as the number of exams increases. The code explores all permutations of exams, making it inefficient for larger input sizes. Considerations for optimization, such as dynamic programming or memoization, could be explored to improve the efficiency for larger scenarios."
   ]
  },
  {
   "cell_type": "code",
   "execution_count": null,
   "id": "b0ea70d8-de42-4dab-ad8c-fae05261845b",
   "metadata": {},
   "outputs": [],
   "source": []
  }
 ],
 "metadata": {
  "kernelspec": {
   "display_name": "Python 3 (ipykernel)",
   "language": "python",
   "name": "python3"
  },
  "language_info": {
   "codemirror_mode": {
    "name": "ipython",
    "version": 3
   },
   "file_extension": ".py",
   "mimetype": "text/x-python",
   "name": "python",
   "nbconvert_exporter": "python",
   "pygments_lexer": "ipython3",
   "version": "3.11.4"
  }
 },
 "nbformat": 4,
 "nbformat_minor": 5
}
